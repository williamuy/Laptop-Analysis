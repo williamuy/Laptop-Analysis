{
 "cells":[
  {
   "cell_type":"markdown",
   "source":[
    "## Importing Libraries \/ Load Data"
   ],
   "attachments":{
    
   },
   "metadata":{
    "datalore":{
     "node_id":"Znm7TKyBXtHFjYsz441jbg",
     "type":"MD",
     "hide_input_from_viewers":true,
     "hide_output_from_viewers":true
    }
   }
  },
  {
   "cell_type":"code",
   "source":[
    "import pandas as pd\n",
    "import numpy as np\n",
    "import seaborn as sns\n",
    "import matplotlib.pyplot as plt\n",
    "import statsmodels.api as sm\n",
    "\n",
    "# Load the dataset\n",
    "dataset = pd.read_csv('laptops (2).csv')"
   ],
   "execution_count":89,
   "outputs":[
    
   ],
   "metadata":{
    "datalore":{
     "node_id":"66uDEtE7XIlX5pcNk4HAga",
     "type":"CODE",
     "hide_input_from_viewers":true,
     "hide_output_from_viewers":true
    }
   }
  },
  {
   "cell_type":"markdown",
   "source":[
    "## Initial Data Exploration"
   ],
   "attachments":{
    
   },
   "metadata":{
    "datalore":{
     "node_id":"0u4M82FLLr3RSxOM5oNTr1",
     "type":"MD",
     "hide_input_from_viewers":true,
     "hide_output_from_viewers":true
    }
   }
  },
  {
   "cell_type":"code",
   "source":[
    "# Initial dataset exploration\n",
    "print(\"Initial Data:\")\n",
    "print(dataset.head())\n",
    "print(\"\\nDescriptive Statistics:\")\n",
    "print(dataset.describe())\n",
    "print(\"\\nNull Values Count in Each Column:\")\n",
    "print(dataset.isnull().sum())"
   ],
   "execution_count":90,
   "outputs":[
    {
     "name":"stdout",
     "text":[
      "Initial Data:\n",
      "     Price  Stars Number of Reviews  \\\n",
      "0  $149.99    4.2              1926   \n",
      "1  $749.99    4.6               384   \n",
      "2  $429.99    4.7               693   \n",
      "3  $649.99    4.5              1810   \n",
      "4  $149.00    4.4               266   \n",
      "\n",
      "                                        Product Name   Brand  Year of Release  \\\n",
      "0  14\" Laptop - Intel Celeron - 4GB Memory - 64GB...      HP           2022.0   \n",
      "1  ENVY 2-in-1 14\" Full HD Touch-Screen Laptop - ...      HP           2023.0   \n",
      "2  Ideapad 3i 15.6\" FHD Touch Laptop - Core i5-11...  Lenovo           2022.0   \n",
      "3  15.6\" Touch-Screen Laptop - Intel Core i7 - 16...      HP           2021.0   \n",
      "4  14\" Chromebook - Intel Celeron - 4GB Memory - ...      HP           2022.0   \n",
      "\n",
      "  Color Category Display Type  Screen Size      Screen Resolution  ...  \\\n",
      "0         Silver          LCD    14 inches        1366 x 768 (HD)  ...   \n",
      "1         Silver          NaN    14 inches  1920 x 1080 (Full HD)  ...   \n",
      "2           Gray          LCD  15.6 inches  1920 x 1080 (Full HD)  ...   \n",
      "3         Silver          LED  15.6 inches  1920 x 1080 (Full HD)  ...   \n",
      "4         Silver          NaN    14 inches        1366 x 768 (HD)  ...   \n",
      "\n",
      "  GPU Brand                Graphics Processor Brand  \\\n",
      "0     Intel  Intel UHD Graphics 600           Intel   \n",
      "1     Intel  Intel Iris Xe Graphics           Intel   \n",
      "2     Intel  Intel Iris Xe Graphics           Intel   \n",
      "3     Intel  Intel Iris Xe Graphics           Intel   \n",
      "4     Intel  Intel UHD Graphics 600           Intel   \n",
      "\n",
      "                 Processor Model Number of CPU Cores CPU Base Clock Frequency  \\\n",
      "0                  Intel Celeron  4-core (quad-core)            1.1 gigahertz   \n",
      "1  Intel 13th Generation Core i7             10-core              5 gigahertz   \n",
      "2  Intel 11th Generation Core i5  4-core (quad-core)            4.2 gigahertz   \n",
      "3  Intel 11th Generation Core i7  4-core (quad-core)            4.7 gigahertz   \n",
      "4                  Intel Celeron  4-core (quad-core)            2.6 gigahertz   \n",
      "\n",
      "  Product Weight Backlit Keyboard Front Facing Camera Video Resolution  \\\n",
      "0    3.24 pounds               No                                  NaN   \n",
      "1    3.35 pounds              Yes                                  NaN   \n",
      "2    3.74 pounds               No                                 720p   \n",
      "3    3.75 pounds               No                                 720p   \n",
      "4    3.35 pounds               No                                 720p   \n",
      "\n",
      "  Number of HDMI Outputs (Total)  \n",
      "0                            1.0  \n",
      "1                            1.0  \n",
      "2                            1.0  \n",
      "3                            1.0  \n",
      "4                            1.0  \n",
      "\n",
      "[5 rows x 30 columns]\n",
      "\n",
      "Descriptive Statistics:\n",
      "            Stars  Year of Release  Number of HDMI Outputs (Total)\n",
      "count  944.000000      1336.000000                      625.000000\n",
      "mean     4.230826      2021.440120                        0.827200\n",
      "std      0.818252         1.781135                        0.386755\n",
      "min      1.000000      2012.000000                        0.000000\n",
      "25%      4.000000      2021.000000                        1.000000\n",
      "50%      4.500000      2022.000000                        1.000000\n",
      "75%      4.700000      2023.000000                        1.000000\n",
      "max      5.000000      2023.000000                        2.000000\n",
      "\n",
      "Null Values Count in Each Column:\n",
      "Price                                     0\n",
      "Stars                                   404\n",
      "Number of Reviews                        30\n",
      "Product Name                              1\n",
      "Brand                                     1\n",
      "Year of Release                          12\n",
      "Color Category                            1\n",
      "Display Type                            689\n",
      "Screen Size                               2\n",
      "Screen Resolution                         2\n",
      "Touch Screen                             30\n",
      "Operating System                          2\n",
      "Voice Assistant Built-in                928\n",
      "Storage Type                             30\n",
      "Total Storage Capacity                    2\n",
      "System Memory (RAM)                       2\n",
      "Type of Memory (RAM)                      1\n",
      "Battery Type                              3\n",
      "Battery Life (up to)                    977\n",
      "Graphics Type                            39\n",
      "GPU Brand                                39\n",
      "Graphics                                 40\n",
      "Processor Brand                           2\n",
      "Processor Model                           2\n",
      "Number of CPU Cores                     695\n",
      "CPU Base Clock Frequency                665\n",
      "Product Weight                           14\n",
      "Backlit Keyboard                         29\n",
      "Front Facing Camera Video Resolution    696\n",
      "Number of HDMI Outputs (Total)          723\n",
      "dtype: int64\n"
     ],
     "output_type":"stream"
    }
   ],
   "metadata":{
    "datalore":{
     "node_id":"njSvS73NbsJsGlL1j1qDt7",
     "type":"CODE",
     "hide_input_from_viewers":true,
     "hide_output_from_viewers":true
    }
   }
  },
  {
   "cell_type":"markdown",
   "source":[
    "## Data Cleaning - Dropping Irrelevant Columns"
   ],
   "attachments":{
    
   },
   "metadata":{
    "datalore":{
     "node_id":"HspE69FfCH8bZR2Yfiix1o",
     "type":"MD",
     "hide_input_from_viewers":true,
     "hide_output_from_viewers":true
    }
   }
  },
  {
   "cell_type":"code",
   "source":[
    "# Data Cleaning and Preprocessing\n",
    "\n",
    "# Drop irrelevant columns\n",
    "columns_to_drop = ['Battery Life (up to)', 'Voice Assistant Built-in', 'Display Type', \n",
    "                   'Number of CPU Cores', 'CPU Base Clock Frequency', \n",
    "                   'Front Facing Camera Video Resolution', 'Number of HDMI Outputs (Total)']\n",
    "dataset.drop(columns=columns_to_drop, inplace=True)"
   ],
   "execution_count":91,
   "outputs":[
    
   ],
   "metadata":{
    "datalore":{
     "node_id":"BCbtgPWIq73GJKlr0eugS4",
     "type":"CODE",
     "hide_input_from_viewers":true,
     "hide_output_from_viewers":true
    }
   }
  },
  {
   "cell_type":"markdown",
   "source":[
    "## Handling Missing Values in Stars"
   ],
   "attachments":{
    
   },
   "metadata":{
    "datalore":{
     "node_id":"VV5832KxbuCtQRKlxPdqQK",
     "type":"MD",
     "hide_input_from_viewers":true,
     "hide_output_from_viewers":true
    }
   }
  },
  {
   "cell_type":"code",
   "source":[
    "# Drop rows with missing 'Stars' as it is a key variable\n",
    "dataset.dropna(subset=['Stars'], inplace=True)"
   ],
   "execution_count":92,
   "outputs":[
    
   ],
   "metadata":{
    "datalore":{
     "node_id":"7Zz5aI3MUi7Z6Sb3S2lice",
     "type":"CODE",
     "hide_input_from_viewers":true,
     "hide_output_from_viewers":true
    }
   }
  },
  {
   "cell_type":"markdown",
   "source":[
    "## Data Transformation - Cleaning Specific Columns"
   ],
   "attachments":{
    
   },
   "metadata":{
    "datalore":{
     "node_id":"ztctISbyZuoa7aVvm8NTsu",
     "type":"MD",
     "hide_input_from_viewers":true,
     "hide_output_from_viewers":true
    }
   }
  },
  {
   "cell_type":"code",
   "source":[
    "# Price cleaning: remove '$' and ',' then convert to float\n",
    "dataset['Price'] = dataset['Price'].str.replace('$', '').str.replace(',', '').astype(float)\n",
    "\n",
    "# Screen Size cleaning: remove 'inches' and convert to float\n",
    "dataset['Screen Size'] = dataset['Screen Size'].str.replace('inches', '').astype(float)"
   ],
   "execution_count":93,
   "outputs":[
    {
     "name":"stderr",
     "text":[
      "<ipython-input-93-7e3a3c18685a>:2: FutureWarning: The default value of regex will change from True to False in a future version. In addition, single character regular expressions will *not* be treated as literal strings when regex=True.\n",
      "  dataset['Price'] = dataset['Price'].str.replace('$', '').str.replace(',', '').astype(float)\n"
     ],
     "output_type":"stream"
    }
   ],
   "metadata":{
    "datalore":{
     "node_id":"eNWyZJGVtyMepOpWDPz8zj",
     "type":"CODE",
     "hide_input_from_viewers":true,
     "hide_output_from_viewers":true
    }
   }
  },
  {
   "cell_type":"markdown",
   "source":[
    "## Operating System Encoding"
   ],
   "attachments":{
    
   },
   "metadata":{
    "datalore":{
     "node_id":"TTvE6X4HuA1Gjcyjp63Inb",
     "type":"MD",
     "hide_input_from_viewers":true,
     "hide_output_from_viewers":true
    }
   }
  },
  {
   "cell_type":"code",
   "source":[
    "# Operating System encoding\n",
    "dataset['Operating System'] = dataset['Operating System'].apply(\n",
    "    lambda x: 'mac' if 'mac' in str(x).lower() \n",
    "    else ('windows' if 'windows' in str(x).lower() \n",
    "    else ('chrome' if 'chrome' in str(x).lower() else x)))\n",
    "\n",
    "# Drop rows with 'iOS' in Operating System as it is not relevant for laptops\n",
    "dataset = dataset[~dataset['Operating System'].str.contains('iOS', case=False, na=False)]"
   ],
   "execution_count":94,
   "outputs":[
    
   ],
   "metadata":{
    "datalore":{
     "node_id":"2Zk3CW6PMG1l8yHBLRDzO7",
     "type":"CODE",
     "hide_input_from_viewers":true,
     "hide_output_from_viewers":true
    }
   }
  },
  {
   "cell_type":"markdown",
   "source":[
    "## RAM Cleaning and Brand Grouping"
   ],
   "attachments":{
    
   },
   "metadata":{
    "datalore":{
     "node_id":"R39HUb0yXMXAvE8dmessu2",
     "type":"MD",
     "hide_input_from_viewers":true,
     "hide_output_from_viewers":true
    }
   }
  },
  {
   "cell_type":"code",
   "source":[
    "# System Memory (RAM) cleaning: extract first number and convert to float\n",
    "dataset['System Memory (RAM)'] = dataset['System Memory (RAM)'].astype(str)\n",
    "dataset['System Memory (RAM)'] = dataset['System Memory (RAM)'].apply(\n",
    "    lambda x: float(x.split()[0]) if len(x.split()) > 0 else x)"
   ],
   "execution_count":95,
   "outputs":[
    
   ],
   "metadata":{
    "datalore":{
     "node_id":"ZkPYN9PGjEMxOhKgFYMxka",
     "type":"CODE",
     "hide_input_from_viewers":true,
     "hide_output_from_viewers":true
    }
   }
  },
  {
   "cell_type":"code",
   "source":[
    "\n",
    "# Brand grouping function\n",
    "def label_brand_group(brand):\n",
    "    mainstream_brands = ['HP', 'Lenovo', 'Dell', 'Microsoft', 'Acer', 'Samsung', 'LG']\n",
    "    gaming_brands = ['GIGABYTE', 'CORSAIR', 'MSI', 'Alienware', 'Razer', 'HP OMEN']\n",
    "    apple_brands = ['Apple']\n",
    "    if brand in mainstream_brands:\n",
    "        return 'Mainstream'\n",
    "    elif brand in gaming_brands:\n",
    "        return 'Gaming'\n",
    "    elif brand in apple_brands:\n",
    "        return 'Apple'\n",
    "    else:\n",
    "        return 'Other'\n",
    "    \n",
    "# Apply brand grouping\n",
    "dataset['Brand_Group'] = dataset['Brand'].apply(label_brand_group)\n",
    "\n",
    "# Drop rows where Brand group is 'Other'\n",
    "dataset = dataset[dataset['Brand_Group'] != 'Other']"
   ],
   "execution_count":96,
   "outputs":[
    
   ],
   "metadata":{
    "datalore":{
     "node_id":"lYZu5ocTJS7Hp9zdASnNlw",
     "type":"CODE",
     "hide_input_from_viewers":true,
     "hide_output_from_viewers":true
    }
   }
  },
  {
   "cell_type":"markdown",
   "source":[
    "## Final Dataset Preparation"
   ],
   "attachments":{
    
   },
   "metadata":{
    "datalore":{
     "node_id":"RNH0IczgdxFXsDV4vdkVJ9",
     "type":"MD",
     "hide_input_from_viewers":true,
     "hide_output_from_viewers":true
    }
   }
  },
  {
   "cell_type":"code",
   "source":[
    "# Select relevant columns for analysis\n",
    "reviewdataset = dataset[['Stars', 'Brand_Group', 'Year of Release', 'Price', 'Screen Size', \n",
    "                         'Operating System', 'System Memory (RAM)', 'Backlit Keyboard']]"
   ],
   "execution_count":97,
   "outputs":[
    
   ],
   "metadata":{
    "datalore":{
     "node_id":"wXrX7eT9dfbzDLJnToGegC",
     "type":"CODE",
     "hide_input_from_viewers":true,
     "hide_output_from_viewers":true
    }
   }
  },
  {
   "cell_type":"code",
   "source":[
    "# Drop rows from 2012 to 2017 as they are not relevant for current analysis\n",
    "reviewdataset = reviewdataset[(reviewdataset['Year of Release'] < 2012) | (reviewdataset['Year of Release'] > 2017)]"
   ],
   "execution_count":98,
   "outputs":[
    
   ],
   "metadata":{
    "datalore":{
     "node_id":"QfBVpT3Q8ysUybROufvEVw",
     "type":"CODE",
     "hide_input_from_viewers":true,
     "hide_output_from_viewers":true
    }
   }
  },
  {
   "cell_type":"code",
   "source":[
    "# Drop rows with any null values\n",
    "reviewdataset.dropna(inplace=True)"
   ],
   "execution_count":99,
   "outputs":[
    
   ],
   "metadata":{
    "datalore":{
     "node_id":"P2I3UaZqzxSgdbpAg5zpw7",
     "type":"CODE",
     "hide_input_from_viewers":true,
     "hide_output_from_viewers":true
    }
   }
  },
  {
   "cell_type":"code",
   "source":[
    "# Encoding categorical variables using get_dummies\n",
    "categorical_columns = ['Brand_Group', 'Operating System', 'Backlit Keyboard']\n",
    "\n",
    "# Set drop first to false after deciding to stick with visualizations\n",
    "reviewdataset = pd.get_dummies(reviewdataset, columns=categorical_columns, drop_first=False)"
   ],
   "execution_count":100,
   "outputs":[
    
   ],
   "metadata":{
    "datalore":{
     "node_id":"wFoDofHEyieuYEd3ikcufr",
     "type":"CODE",
     "hide_input_from_viewers":true,
     "hide_output_from_viewers":true
    }
   }
  },
  {
   "cell_type":"code",
   "source":[
    "# export this dataset \n",
    "\n",
    "reviewdataset.to_csv('reviewdataset.csv', index=False)"
   ],
   "execution_count":101,
   "outputs":[
    
   ],
   "metadata":{
    "datalore":{
     "node_id":"wWi06g8I5vCH8GHRJHWeFK",
     "type":"CODE",
     "hide_input_from_viewers":true,
     "hide_output_from_viewers":true
    }
   }
  }
 ],
 "metadata":{
  "kernelspec":{
   "display_name":"Python",
   "language":"python",
   "name":"python"
  },
  "datalore":{
   "computation_mode":"JUPYTER",
   "package_manager":"pip",
   "base_environment":"default",
   "packages":[
    
   ],
   "report_row_ids":[
    
   ],
   "version":3
  }
 },
 "nbformat":4,
 "nbformat_minor":4
}